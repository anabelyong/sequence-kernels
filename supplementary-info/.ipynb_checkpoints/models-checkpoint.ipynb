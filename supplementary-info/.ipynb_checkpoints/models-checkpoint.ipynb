{
 "cells": [
  {
   "cell_type": "markdown",
   "id": "b4fad012-27f8-474e-9180-a1b6d0b3f165",
   "metadata": {},
   "source": [
    "# Models to Try!"
   ]
  },
  {
   "cell_type": "markdown",
   "id": "ec1ad54d-2494-4fb0-8097-87e41df1048b",
   "metadata": {},
   "source": [
    "## Inverse-multiquadratic Hamming (IMQ-H) kernel"
   ]
  },
  {
   "cell_type": "markdown",
   "id": "42cbf567-9324-4b1d-9b10-4741bc6ba42d",
   "metadata": {},
   "source": [
    "$$\n",
    "k_{\\text{IMQ-h}}(X,Y)= \\frac{1}{1+d_{H}^{\\Phi}(X,Y))^2} = \\frac{1}{(1+|X| \\vee |Y|-(\\Phi(x)|\\Phi(Y)))^2}$$"
   ]
  },
  {
   "cell_type": "markdown",
   "id": "20204170-4a5e-4ffd-8c01-51e1d1dca591",
   "metadata": {},
   "source": [
    "Notes:\n",
    "1) **Discrete masses indicate universality & characteristicness**: By integrating the Hamming kernel over an inverse-multiquadratic weight, the IMQ-H acquires the discrete-mass property. That means its RKHS contains delta functions at every sequence, which in turn guarantees the kernel is universal (it can approximate any sequence‐to‐phenotype map) and characteristic (its MMD will distinguish any two distributions).\n",
    "2) **Heavy tails mitigate diagonal-dominance:** The ordinary exponential Hamming kernel $e^{-\\lambda d_H}$ decays too quickly as $d_H$ grows causing \"diagonal dominance\" (almost all off-diagonal Gram entries vanish). IMQ-H decays like a power-law $(1+d_H)^{-2}$, retaining meaningful similarity scores even for more distant sequence pairs. Important when the tsv file has many variants that differ by multiple residues. \n",
    "3) **Exact positional comparison preserved:** IMQ-H uses the exact same $\\Phi$-features (k-mer counts in fixed windows) as your original Hamming kernel. You still compare wild-type vs. mutant sequences position-by-position (so any biological rationale you have for using Hamming remains valid), but the functional form has changed to grant strong theoretical guarantees at essentially no extra computational cost"
   ]
  },
  {
   "cell_type": "markdown",
   "id": "d78270bf-bf11-48f2-83a1-58c163a79d88",
   "metadata": {},
   "source": [
    "### Implementation"
   ]
  },
  {
   "cell_type": "code",
   "execution_count": 2,
   "id": "729f39a1-fc09-40ef-b2e5-d7eb99c69c18",
   "metadata": {},
   "outputs": [],
   "source": [
    "import pandas as pd \n",
    "import numpy as np \n",
    "import matplotlib.pyplot as plt\n",
    "import logging "
   ]
  },
  {
   "cell_type": "code",
   "execution_count": 6,
   "id": "40272be2-eece-4bd4-8404-89fbe98b2561",
   "metadata": {},
   "outputs": [],
   "source": [
    "import numpy as np\n",
    "from seq_tools import hamming_dist, get_ohe\n",
    "\n",
    "def imq_hamming_kernel(seqs_x, seqs_y=None, alphabet_name='dna', scale=1, beta=0.5, lag=1):\n",
    "    \"\"\"\n",
    "    Compute the inverse-multiquadratic Hamming kernel between two sets of sequences.\n",
    "\n",
    "    Parameters:\n",
    "    seqs_x : numpy array or list of strings\n",
    "        The first set of sequences.\n",
    "    seqs_y : numpy array or list of strings, optional\n",
    "        The second set of sequences. If None, computes the kernel between seqs_x and itself.\n",
    "    alphabet_name : str, optional\n",
    "        The alphabet type ('dna', 'rna', 'prot').\n",
    "    scale : float, optional\n",
    "        Scale parameter in the IMQ kernel.\n",
    "    beta : float, optional\n",
    "        Exponent parameter in the IMQ kernel.\n",
    "    lag : int, optional\n",
    "        Length of k-mers used for Hamming distance calculation.\n",
    "\n",
    "    Returns:\n",
    "    kernel_matrix : numpy array\n",
    "        The computed kernel matrix.\n",
    "    \"\"\"\n",
    "    if seqs_y is None:\n",
    "        seqs_y = seqs_x\n",
    "\n",
    "    # Compute Hamming distances\n",
    "    h_dists = hamming_dist(seqs_x, seqs_y, alphabet_name=alphabet_name, lag=lag)\n",
    "\n",
    "    # Compute IMQ-Hamming kernel\n",
    "    kernel_matrix = (1 + scale) ** beta / (scale + h_dists) ** beta\n",
    "\n",
    "    return kernel_matrix"
   ]
  },
  {
   "cell_type": "code",
   "execution_count": 3,
   "id": "908ed189-bcd3-40fb-a5b7-e81be96497ea",
   "metadata": {},
   "outputs": [
    {
     "name": "stdout",
     "output_type": "stream",
     "text": [
      "IMQ-Hamming Kernel Matrix:\n",
      "[[1.         1.        ]\n",
      " [1.         1.        ]\n",
      " [0.81649658 0.81649658]]\n"
     ]
    }
   ],
   "source": [
    "# Example usage\n",
    "if __name__ == \"__main__\":\n",
    "    seqs_x = [\"ACGT\", \"ACGA\", \"TCGT\"]\n",
    "    seqs_y = [\"ACGG\", \"ACGC\"]\n",
    "\n",
    "    kernel_mat = imq_hamming_kernel(seqs_x, seqs_y, alphabet_name='dna', scale=1, beta=0.5, lag=1)\n",
    "    print(\"IMQ-Hamming Kernel Matrix:\")\n",
    "    print(kernel_mat)"
   ]
  },
  {
   "cell_type": "code",
   "execution_count": 3,
   "id": "e6bf224a-c280-4579-820d-39f11f0ccc12",
   "metadata": {},
   "outputs": [
    {
     "name": "stdout",
     "output_type": "stream",
     "text": [
      "       Source   Gene                ENST Gene Code           ENST.1  \\\n",
      "0  cBioPortal  BRCA1   ENST00000357654.9    P38398  ENST00000357654   \n",
      "1  cBioPortal  BRCA2   ENST00000380152.8    P51587  ENST00000380152   \n",
      "2  cBioPortal   CDH1  ENST00000261769.10    P12830  ENST00000261769   \n",
      "3  cBioPortal   CDH1  ENST00000261769.10    P12830  ENST00000261769   \n",
      "4  cBioPortal   CDH1  ENST00000261769.10    P12830  ENST00000261769   \n",
      "\n",
      "     Gene Name Mutation    Type  \\\n",
      "0  BRCA1_HUMAN   G1788V  Driver   \n",
      "1  BRCA2_HUMAN   R2336C  Driver   \n",
      "2  CADH1_HUMAN    D288N  Driver   \n",
      "3  CADH1_HUMAN    D254Y  Driver   \n",
      "4  CADH1_HUMAN    R732Q  Driver   \n",
      "\n",
      "                                            wild_seq  \\\n",
      "0  MDLSALRVEEVQNVINAMQKILECPICLELIKEPVSTKCDHIFCKF...   \n",
      "1  MPIGSKERPTFFEIFKTRCNKADLGPISLNWFEELSSEAPPYNSEP...   \n",
      "2  MGPWSRSLSALLLLLQVSSWLCQEPEPCHPGFDAESYTFTVPRRHL...   \n",
      "3  MGPWSRSLSALLLLLQVSSWLCQEPEPCHPGFDAESYTFTVPRRHL...   \n",
      "4  MGPWSRSLSALLLLLQVSSWLCQEPEPCHPGFDAESYTFTVPRRHL...   \n",
      "\n",
      "                                             mut_seq  error  \n",
      "0  MDLSALRVEEVQNVINAMQKILECPICLELIKEPVSTKCDHIFCKF...    NaN  \n",
      "1  MPIGSKERPTFFEIFKTRCNKADLGPISLNWFEELSSEAPPYNSEP...    NaN  \n",
      "2  MGPWSRSLSALLLLLQVSSWLCQEPEPCHPGFDAESYTFTVPRRHL...    NaN  \n",
      "3  MGPWSRSLSALLLLLQVSSWLCQEPEPCHPGFDAESYTFTVPRRHL...    NaN  \n",
      "4  MGPWSRSLSALLLLLQVSSWLCQEPEPCHPGFDAESYTFTVPRRHL...    NaN  \n"
     ]
    }
   ],
   "source": [
    "df = pd.read_csv('mutation_with_sequences.csv')\n",
    "print(df.head())"
   ]
  },
  {
   "cell_type": "code",
   "execution_count": 4,
   "id": "53c1eb59-3d10-4876-b66b-9e9c5b3c72df",
   "metadata": {},
   "outputs": [],
   "source": [
    "original_seqs = df['wild_seq'].tolist()[:100]\n",
    "mutated_seqs = df['mut_seq'].tolist()[:100]"
   ]
  },
  {
   "cell_type": "code",
   "execution_count": 7,
   "id": "060e3180-8190-424f-8c21-90ec57a5c3e4",
   "metadata": {},
   "outputs": [
    {
     "name": "stdout",
     "output_type": "stream",
     "text": [
      "[[1.         0.02461084 0.03320446 ... 0.03296007 0.03296007 0.03296007]\n",
      " [0.02461084 1.         0.02441204 ... 0.02427499 0.02427142 0.02427499]\n",
      " [0.03320446 0.02441204 1.         ... 0.04828045 0.04830862 0.04825234]\n",
      " ...\n",
      " [0.03296007 0.02427499 0.04830862 ... 1.         1.         1.        ]\n",
      " [0.03296007 0.02427499 0.04830862 ... 1.         1.         1.        ]\n",
      " [0.03296007 0.02427499 0.04830862 ... 1.         1.         1.        ]]\n"
     ]
    }
   ],
   "source": [
    "def imq_hamming_kernel(seqs_x, seqs_y=None, alphabet_name='prot', scale=1, beta=0.5, lag=1):\n",
    "    if seqs_y is None:\n",
    "        seqs_y = seqs_x\n",
    "    h_dists = hamming_dist(seqs_x, seqs_y, alphabet_name=alphabet_name, lag=lag)\n",
    "    kernel_matrix = (1 + scale)**beta / (scale + h_dists)**beta\n",
    "    return kernel_matrix\n",
    "\n",
    "kernel_matrix = imq_hamming_kernel(original_seqs, mutated_seqs, alphabet_name='prot', scale=1, beta=0.5, lag=1)\n",
    "print(kernel_matrix)"
   ]
  },
  {
   "cell_type": "code",
   "execution_count": 13,
   "id": "d288dd85-d4e0-46c8-b18f-807ba137c3af",
   "metadata": {},
   "outputs": [
    {
     "name": "stdout",
     "output_type": "stream",
     "text": [
      "IMQ-Hamming Kernel Matrix:\n",
      "[[0.63245553 0.57735027]\n",
      " [0.63245553 0.57735027]\n",
      " [0.63245553 0.57735027]]\n"
     ]
    }
   ],
   "source": [
    "# Example usage\n",
    "if __name__ == \"__main__\":\n",
    "    seqs_x = [\"BCDA\", \"CDE\", \"DCE\"]\n",
    "    seqs_y = [\"ABCD\", \"ABCDE\"]\n",
    "\n",
    "    kernel_mat = imq_hamming_kernel(seqs_x, seqs_y, alphabet_name='prot', scale=1, beta=0.5, lag=1)\n",
    "    print(\"IMQ-Hamming Kernel Matrix:\")\n",
    "    print(kernel_mat)"
   ]
  }
 ],
 "metadata": {
  "kernelspec": {
   "display_name": "Python (sequence_kernels)",
   "language": "python",
   "name": "sequence_kernels"
  },
  "language_info": {
   "codemirror_mode": {
    "name": "ipython",
    "version": 3
   },
   "file_extension": ".py",
   "mimetype": "text/x-python",
   "name": "python",
   "nbconvert_exporter": "python",
   "pygments_lexer": "ipython3",
   "version": "3.10.17"
  }
 },
 "nbformat": 4,
 "nbformat_minor": 5
}
