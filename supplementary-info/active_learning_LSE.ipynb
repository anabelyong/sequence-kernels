{
 "cells": [
  {
   "cell_type": "markdown",
   "id": "7ad00921-7a19-4a8f-93da-ac8a3c7e7fbd",
   "metadata": {},
   "source": [
    "### Definition: IMQ-Hamming Kernel\n",
    "Based on Amin et al.(2023), the Inverse Multiquadratic Hamming(IMQ-H) kernel is defined for sequences $x,y \\in \\mathcal{S}$, where $\\mathcal{S}$ is the space of finite strings (e.g., DNA/RNA/protein), as: \n",
    "$$\n",
    "k_{\\text{IMQ-h}}(X,Y)= \\frac{1}{1+d_{H}^{\\Phi}(X,Y))^2} = \\frac{1}{(1+|X| \\vee |Y|-(\\Phi(x)|\\Phi(Y)))^2}$$\n",
    "\n",
    "This uses: \n",
    "1) $d_H(x,y)$: a Hamming distance computed over a feature space defined by sliding window counts (k-mers).\n",
    "2) The inverse multiquadratic kernel form $k(a,b) = \\frac{C}{(\\alpha + ||\\alpha - b||^2)^{\\beta}}$, here adapted for string comparison.\n",
    "\n",
    "This paper generalizes this with parameters scale $\\alpha$ and $\\beta$, yielding: \n",
    "\n",
    "$$\n",
    "k_{\\text{IMQ-h}}(x,y)= \\frac{(1+\\alpha)^{\\beta}}{(\\alpha +d_{H}(x,y))^{\\beta}}$$\n"
   ]
  },
  {
   "cell_type": "code",
   "execution_count": 10,
   "id": "571122d6-f88c-4dbb-93e2-d8ea9364cd7f",
   "metadata": {},
   "outputs": [],
   "source": [
    "import pandas as pd \n",
    "import numpy as np \n",
    "import matplotlib.pyplot as plt\n",
    "import logging "
   ]
  },
  {
   "cell_type": "code",
   "execution_count": 11,
   "id": "fcaacc80-672b-4114-b1e8-6f4d22faf40f",
   "metadata": {},
   "outputs": [],
   "source": [
    "df = pd.read_csv('mutation_with_sequences.csv')\n",
    "df = df.dropna(subset=[\"mut_seq\", \"Type\"])\n",
    "# Inputs: mutated sequences\n",
    "seqs = df[\"mut_seq\"].tolist()\n",
    "# Labels: 1 = driver, 0 = passenger\n",
    "labels = df[\"Type\"].apply(lambda x: 1.0 if x.lower() == \"driver\" else 0.0).values"
   ]
  },
  {
   "cell_type": "markdown",
   "id": "78b220d4-0cf2-4135-9aea-6a23f6fc20a3",
   "metadata": {},
   "source": [
    "### Pick 10 Seed Points for training GP"
   ]
  },
  {
   "cell_type": "code",
   "execution_count": 12,
   "id": "3bab5e24-2078-4096-a2f6-29cfee066f08",
   "metadata": {},
   "outputs": [],
   "source": [
    "np.random.seed(42)\n",
    "n_init = 10\n",
    "init_idx = np.random.choice(len(seqs), size=n_init, replace=False)"
   ]
  },
  {
   "cell_type": "markdown",
   "id": "cd6e8b81-cda3-464b-ac06-706b3bb1ecc1",
   "metadata": {},
   "source": [
    "### Define GP Model and Kernel "
   ]
  },
  {
   "cell_type": "code",
   "execution_count": 13,
   "id": "a4bdd065-f303-4f9a-9675-21b85f766611",
   "metadata": {},
   "outputs": [],
   "source": [
    "from imq_gp import ZeroMeanIMQHGP, IMQHGP_Params\n",
    "import jax.numpy as jnp\n",
    "\n",
    "gp_model = ZeroMeanIMQHGP([seqs[i] for i in init_idx], jnp.array(labels[init_idx]))\n",
    "\n",
    "params = IMQHGP_Params(\n",
    "    raw_amplitude=jnp.array(1.0),\n",
    "    raw_noise=jnp.array(1e-4),\n",
    "    scale=1.0,\n",
    "    beta=0.5,\n",
    "    lag=1,\n",
    "    alphabet_name=\"prot\"\n",
    ")"
   ]
  },
  {
   "cell_type": "code",
   "execution_count": 18,
   "id": "fc044482-e4af-4682-b9bb-cca68c2d83bc",
   "metadata": {},
   "outputs": [
    {
     "ename": "KeyboardInterrupt",
     "evalue": "",
     "output_type": "error",
     "traceback": [
      "\u001b[0;31m---------------------------------------------------------------------------\u001b[0m",
      "\u001b[0;31mKeyboardInterrupt\u001b[0m                         Traceback (most recent call last)",
      "Cell \u001b[0;32mIn[18], line 20\u001b[0m\n\u001b[1;32m      7\u001b[0m lse \u001b[38;5;241m=\u001b[39m LSE(\n\u001b[1;32m      8\u001b[0m     model\u001b[38;5;241m=\u001b[39mgp_model,\n\u001b[1;32m      9\u001b[0m     params\u001b[38;5;241m=\u001b[39mparams,\n\u001b[0;32m   (...)\u001b[0m\n\u001b[1;32m     16\u001b[0m     verbose\u001b[38;5;241m=\u001b[39m\u001b[38;5;28;01mTrue\u001b[39;00m \n\u001b[1;32m     17\u001b[0m )\n\u001b[1;32m     19\u001b[0m \u001b[38;5;66;03m# Run the active learning loop\u001b[39;00m\n\u001b[0;32m---> 20\u001b[0m \u001b[43mlse\u001b[49m\u001b[38;5;241;43m.\u001b[39;49m\u001b[43mrun\u001b[49m\u001b[43m(\u001b[49m\u001b[43mmax_iter\u001b[49m\u001b[38;5;241;43m=\u001b[39;49m\u001b[38;5;241;43m10\u001b[39;49m\u001b[43m)\u001b[49m\n",
      "File \u001b[0;32m~/sequence-kernels/supplementary-info/lse.py:91\u001b[0m, in \u001b[0;36mLSE.run\u001b[0;34m(self, max_iter)\u001b[0m\n\u001b[1;32m     89\u001b[0m \u001b[38;5;28;01mdef\u001b[39;00m\u001b[38;5;250m \u001b[39m\u001b[38;5;21mrun\u001b[39m(\u001b[38;5;28mself\u001b[39m, max_iter\u001b[38;5;241m=\u001b[39m\u001b[38;5;241m100\u001b[39m):\n\u001b[1;32m     90\u001b[0m     \u001b[38;5;28;01mfor\u001b[39;00m _ \u001b[38;5;129;01min\u001b[39;00m \u001b[38;5;28mrange\u001b[39m(max_iter):\n\u001b[0;32m---> 91\u001b[0m         \u001b[38;5;28;01mif\u001b[39;00m \u001b[38;5;129;01mnot\u001b[39;00m \u001b[38;5;28;43mself\u001b[39;49m\u001b[38;5;241;43m.\u001b[39;49m\u001b[43mstep\u001b[49m\u001b[43m(\u001b[49m\u001b[43m)\u001b[49m:\n\u001b[1;32m     92\u001b[0m             \u001b[38;5;28;01mbreak\u001b[39;00m\n",
      "File \u001b[0;32m~/sequence-kernels/supplementary-info/lse.py:38\u001b[0m, in \u001b[0;36mLSE.step\u001b[0;34m(self)\u001b[0m\n\u001b[1;32m     35\u001b[0m     \u001b[38;5;28;01mreturn\u001b[39;00m \u001b[38;5;28;01mFalse\u001b[39;00m  \u001b[38;5;66;03m# Done\u001b[39;00m\n\u001b[1;32m     37\u001b[0m X_test \u001b[38;5;241m=\u001b[39m [\u001b[38;5;28mself\u001b[39m\u001b[38;5;241m.\u001b[39mX_pool[i] \u001b[38;5;28;01mfor\u001b[39;00m i \u001b[38;5;129;01min\u001b[39;00m \u001b[38;5;28mself\u001b[39m\u001b[38;5;241m.\u001b[39mut]\n\u001b[0;32m---> 38\u001b[0m mu, std \u001b[38;5;241m=\u001b[39m \u001b[38;5;28;43mself\u001b[39;49m\u001b[38;5;241;43m.\u001b[39;49m\u001b[43mmodel\u001b[49m\u001b[38;5;241;43m.\u001b[39;49m\u001b[43mpredict_f\u001b[49m\u001b[43m(\u001b[49m\u001b[38;5;28;43mself\u001b[39;49m\u001b[38;5;241;43m.\u001b[39;49m\u001b[43mparams\u001b[49m\u001b[43m,\u001b[49m\u001b[43m \u001b[49m\u001b[43mX_test\u001b[49m\u001b[43m,\u001b[49m\u001b[43m \u001b[49m\u001b[43mfull_covar\u001b[49m\u001b[38;5;241;43m=\u001b[39;49m\u001b[38;5;28;43;01mFalse\u001b[39;49;00m\u001b[43m)\u001b[49m\n\u001b[1;32m     39\u001b[0m b \u001b[38;5;241m=\u001b[39m np\u001b[38;5;241m.\u001b[39msqrt(\u001b[38;5;28mself\u001b[39m\u001b[38;5;241m.\u001b[39m_beta())\n\u001b[1;32m     41\u001b[0m lower \u001b[38;5;241m=\u001b[39m mu \u001b[38;5;241m-\u001b[39m b \u001b[38;5;241m*\u001b[39m std\n",
      "File \u001b[0;32m~/sequence-kernels/supplementary-info/imq_gp.py:57\u001b[0m, in \u001b[0;36mZeroMeanIMQHGP.predict_f\u001b[0;34m(self, params, seqs_test, full_covar)\u001b[0m\n\u001b[1;32m     51\u001b[0m \u001b[38;5;28;01mdef\u001b[39;00m\u001b[38;5;250m \u001b[39m\u001b[38;5;21mpredict_f\u001b[39m(\u001b[38;5;28mself\u001b[39m, params: IMQHGP_Params, seqs_test: \u001b[38;5;28mlist\u001b[39m[\u001b[38;5;28mstr\u001b[39m], full_covar: \u001b[38;5;28mbool\u001b[39m \u001b[38;5;241m=\u001b[39m \u001b[38;5;28;01mTrue\u001b[39;00m):\n\u001b[1;32m     52\u001b[0m     \u001b[38;5;28;01mreturn\u001b[39;00m kgp\u001b[38;5;241m.\u001b[39mnoiseless_predict(\n\u001b[1;32m     53\u001b[0m         a\u001b[38;5;241m=\u001b[39mTRANSFORM(params\u001b[38;5;241m.\u001b[39mraw_amplitude),\n\u001b[1;32m     54\u001b[0m         s\u001b[38;5;241m=\u001b[39mTRANSFORM(params\u001b[38;5;241m.\u001b[39mraw_noise),\n\u001b[1;32m     55\u001b[0m         k_train_train\u001b[38;5;241m=\u001b[39m\u001b[38;5;28mself\u001b[39m\u001b[38;5;241m.\u001b[39m_kernel_matrix(\u001b[38;5;28mself\u001b[39m\u001b[38;5;241m.\u001b[39m_seqs_train, \u001b[38;5;28mself\u001b[39m\u001b[38;5;241m.\u001b[39m_seqs_train, params),\n\u001b[1;32m     56\u001b[0m         k_test_train\u001b[38;5;241m=\u001b[39m\u001b[38;5;28mself\u001b[39m\u001b[38;5;241m.\u001b[39m_kernel_matrix(seqs_test, \u001b[38;5;28mself\u001b[39m\u001b[38;5;241m.\u001b[39m_seqs_train, params),\n\u001b[0;32m---> 57\u001b[0m         k_test_test\u001b[38;5;241m=\u001b[39m\u001b[38;5;28mself\u001b[39m\u001b[38;5;241m.\u001b[39m_kernel_matrix(seqs_test, seqs_test, params) \u001b[38;5;28;01mif\u001b[39;00m full_covar \u001b[38;5;28;01melse\u001b[39;00m jnp\u001b[38;5;241m.\u001b[39mdiag(\u001b[38;5;28;43mself\u001b[39;49m\u001b[38;5;241;43m.\u001b[39;49m\u001b[43m_kernel_matrix\u001b[49m\u001b[43m(\u001b[49m\u001b[43mseqs_test\u001b[49m\u001b[43m,\u001b[49m\u001b[43m \u001b[49m\u001b[43mseqs_test\u001b[49m\u001b[43m,\u001b[49m\u001b[43m \u001b[49m\u001b[43mparams\u001b[49m\u001b[43m)\u001b[49m),\n\u001b[1;32m     58\u001b[0m         y_train\u001b[38;5;241m=\u001b[39m\u001b[38;5;28mself\u001b[39m\u001b[38;5;241m.\u001b[39m_y_train,\n\u001b[1;32m     59\u001b[0m         full_covar\u001b[38;5;241m=\u001b[39mfull_covar\n\u001b[1;32m     60\u001b[0m     )\n",
      "File \u001b[0;32m~/sequence-kernels/supplementary-info/imq_gp.py:34\u001b[0m, in \u001b[0;36mZeroMeanIMQHGP._kernel_matrix\u001b[0;34m(self, A, B, params)\u001b[0m\n\u001b[1;32m     33\u001b[0m \u001b[38;5;28;01mdef\u001b[39;00m\u001b[38;5;250m \u001b[39m\u001b[38;5;21m_kernel_matrix\u001b[39m(\u001b[38;5;28mself\u001b[39m, A: \u001b[38;5;28mlist\u001b[39m[\u001b[38;5;28mstr\u001b[39m], B: \u001b[38;5;28mlist\u001b[39m[\u001b[38;5;28mstr\u001b[39m], params: IMQHGP_Params):\n\u001b[0;32m---> 34\u001b[0m     \u001b[38;5;28;01mreturn\u001b[39;00m jnp\u001b[38;5;241m.\u001b[39masarray(\u001b[43mimq_hamming_kernel\u001b[49m\u001b[43m(\u001b[49m\n\u001b[1;32m     35\u001b[0m \u001b[43m        \u001b[49m\u001b[43mA\u001b[49m\u001b[43m,\u001b[49m\u001b[43m \u001b[49m\u001b[43mB\u001b[49m\u001b[43m,\u001b[49m\n\u001b[1;32m     36\u001b[0m \u001b[43m        \u001b[49m\u001b[43malphabet_name\u001b[49m\u001b[38;5;241;43m=\u001b[39;49m\u001b[43mparams\u001b[49m\u001b[38;5;241;43m.\u001b[39;49m\u001b[43malphabet_name\u001b[49m\u001b[43m,\u001b[49m\n\u001b[1;32m     37\u001b[0m \u001b[43m        \u001b[49m\u001b[43mscale\u001b[49m\u001b[38;5;241;43m=\u001b[39;49m\u001b[43mparams\u001b[49m\u001b[38;5;241;43m.\u001b[39;49m\u001b[43mscale\u001b[49m\u001b[43m,\u001b[49m\n\u001b[1;32m     38\u001b[0m \u001b[43m        \u001b[49m\u001b[43mbeta\u001b[49m\u001b[38;5;241;43m=\u001b[39;49m\u001b[43mparams\u001b[49m\u001b[38;5;241;43m.\u001b[39;49m\u001b[43mbeta\u001b[49m\u001b[43m,\u001b[49m\n\u001b[1;32m     39\u001b[0m \u001b[43m        \u001b[49m\u001b[43mlag\u001b[49m\u001b[38;5;241;43m=\u001b[39;49m\u001b[43mparams\u001b[49m\u001b[38;5;241;43m.\u001b[39;49m\u001b[43mlag\u001b[49m\n\u001b[1;32m     40\u001b[0m \u001b[43m    \u001b[49m\u001b[43m)\u001b[49m)\n",
      "File \u001b[0;32m~/sequence-kernels/supplementary-info/imq_gp.py:10\u001b[0m, in \u001b[0;36mimq_hamming_kernel\u001b[0;34m(seqs_x, seqs_y, alphabet_name, scale, beta, lag)\u001b[0m\n\u001b[1;32m      8\u001b[0m \u001b[38;5;28;01mif\u001b[39;00m seqs_y \u001b[38;5;129;01mis\u001b[39;00m \u001b[38;5;28;01mNone\u001b[39;00m:\n\u001b[1;32m      9\u001b[0m     seqs_y \u001b[38;5;241m=\u001b[39m seqs_x\n\u001b[0;32m---> 10\u001b[0m h_dists \u001b[38;5;241m=\u001b[39m \u001b[43mhamming_dist\u001b[49m\u001b[43m(\u001b[49m\u001b[43mseqs_x\u001b[49m\u001b[43m,\u001b[49m\u001b[43m \u001b[49m\u001b[43mseqs_y\u001b[49m\u001b[43m,\u001b[49m\u001b[43m \u001b[49m\u001b[43malphabet_name\u001b[49m\u001b[38;5;241;43m=\u001b[39;49m\u001b[43malphabet_name\u001b[49m\u001b[43m,\u001b[49m\u001b[43m \u001b[49m\u001b[43mlag\u001b[49m\u001b[38;5;241;43m=\u001b[39;49m\u001b[43mlag\u001b[49m\u001b[43m)\u001b[49m\n\u001b[1;32m     11\u001b[0m \u001b[38;5;28;01mreturn\u001b[39;00m (\u001b[38;5;241m1\u001b[39m \u001b[38;5;241m+\u001b[39m scale) \u001b[38;5;241m*\u001b[39m\u001b[38;5;241m*\u001b[39m beta \u001b[38;5;241m/\u001b[39m (scale \u001b[38;5;241m+\u001b[39m h_dists) \u001b[38;5;241m*\u001b[39m\u001b[38;5;241m*\u001b[39m beta\n",
      "File \u001b[0;32m~/sequence-kernels/supplementary-info/seq_tools.py:335\u001b[0m, in \u001b[0;36mhamming_dist\u001b[0;34m(seqs_x, seqs_y, alphabet_name, lag)\u001b[0m\n\u001b[1;32m    331\u001b[0m \u001b[38;5;28;01mfor\u001b[39;00m batch_inds \u001b[38;5;129;01min\u001b[39;00m np\u001b[38;5;241m.\u001b[39marray_split(np\u001b[38;5;241m.\u001b[39marange(\u001b[38;5;28mlen\u001b[39m(bin_x)),\n\u001b[1;32m    332\u001b[0m                                  num_batches, axis\u001b[38;5;241m=\u001b[39m\u001b[38;5;241m0\u001b[39m):\n\u001b[1;32m    333\u001b[0m     bin_x_b \u001b[38;5;241m=\u001b[39m bin_x[batch_inds]\n\u001b[1;32m    334\u001b[0m     sims \u001b[38;5;241m=\u001b[39m np\u001b[38;5;241m.\u001b[39mbitwise_and(np\u001b[38;5;241m.\u001b[39mtile(bin_x_b[:, \u001b[38;5;28;01mNone\u001b[39;00m, :], (\u001b[38;5;241m1\u001b[39m, \u001b[38;5;28mlen\u001b[39m(bin_y), \u001b[38;5;241m1\u001b[39m)),\n\u001b[0;32m--> 335\u001b[0m                           \u001b[43mnp\u001b[49m\u001b[38;5;241;43m.\u001b[39;49m\u001b[43mtile\u001b[49m\u001b[43m(\u001b[49m\u001b[43mbin_y\u001b[49m\u001b[43m[\u001b[49m\u001b[38;5;28;43;01mNone\u001b[39;49;00m\u001b[43m,\u001b[49m\u001b[43m \u001b[49m\u001b[43m:\u001b[49m\u001b[43m,\u001b[49m\u001b[43m \u001b[49m\u001b[43m:\u001b[49m\u001b[43m]\u001b[49m\u001b[43m,\u001b[49m\u001b[43m \u001b[49m\u001b[43m(\u001b[49m\u001b[38;5;28;43mlen\u001b[39;49m\u001b[43m(\u001b[49m\u001b[43mbin_x_b\u001b[49m\u001b[43m)\u001b[49m\u001b[43m,\u001b[49m\u001b[43m \u001b[49m\u001b[38;5;241;43m1\u001b[39;49m\u001b[43m,\u001b[49m\u001b[43m \u001b[49m\u001b[38;5;241;43m1\u001b[39;49m\u001b[43m)\u001b[49m\u001b[43m)\u001b[49m)\u001b[38;5;241m>\u001b[39m\u001b[38;5;241m0\u001b[39m\n\u001b[1;32m    336\u001b[0m     difs \u001b[38;5;241m=\u001b[39m \u001b[38;5;241m1\u001b[39m \u001b[38;5;241m-\u001b[39m sims\n\u001b[1;32m    337\u001b[0m     \u001b[38;5;28;01mfor\u001b[39;00m l \u001b[38;5;129;01min\u001b[39;00m \u001b[38;5;28mrange\u001b[39m(lag):\n",
      "File \u001b[0;32m~/miniconda3/envs/sequence_kernels/lib/python3.10/site-packages/numpy/lib/_shape_base_impl.py:1292\u001b[0m, in \u001b[0;36mtile\u001b[0;34m(A, reps)\u001b[0m\n\u001b[1;32m   1290\u001b[0m     \u001b[38;5;28;01mfor\u001b[39;00m dim_in, nrep \u001b[38;5;129;01min\u001b[39;00m \u001b[38;5;28mzip\u001b[39m(c\u001b[38;5;241m.\u001b[39mshape, tup):\n\u001b[1;32m   1291\u001b[0m         \u001b[38;5;28;01mif\u001b[39;00m nrep \u001b[38;5;241m!=\u001b[39m \u001b[38;5;241m1\u001b[39m:\n\u001b[0;32m-> 1292\u001b[0m             c \u001b[38;5;241m=\u001b[39m \u001b[43mc\u001b[49m\u001b[38;5;241;43m.\u001b[39;49m\u001b[43mreshape\u001b[49m\u001b[43m(\u001b[49m\u001b[38;5;241;43m-\u001b[39;49m\u001b[38;5;241;43m1\u001b[39;49m\u001b[43m,\u001b[49m\u001b[43m \u001b[49m\u001b[43mn\u001b[49m\u001b[43m)\u001b[49m\u001b[38;5;241;43m.\u001b[39;49m\u001b[43mrepeat\u001b[49m\u001b[43m(\u001b[49m\u001b[43mnrep\u001b[49m\u001b[43m,\u001b[49m\u001b[43m \u001b[49m\u001b[38;5;241;43m0\u001b[39;49m\u001b[43m)\u001b[49m\n\u001b[1;32m   1293\u001b[0m         n \u001b[38;5;241m/\u001b[39m\u001b[38;5;241m/\u001b[39m\u001b[38;5;241m=\u001b[39m dim_in\n\u001b[1;32m   1294\u001b[0m \u001b[38;5;28;01mreturn\u001b[39;00m c\u001b[38;5;241m.\u001b[39mreshape(shape_out)\n",
      "\u001b[0;31mKeyboardInterrupt\u001b[0m: "
     ]
    }
   ],
   "source": [
    "import importlib\n",
    "import lse  \n",
    "importlib.reload(lse)\n",
    "from lse import LSE\n",
    "\n",
    "lse = LSE(\n",
    "    model=gp_model,\n",
    "    params=params,\n",
    "    X_pool=seqs,\n",
    "    y_pool=labels,\n",
    "    init_indices=init_idx,\n",
    "    h=0.5,\n",
    "    epsilon=0.05,\n",
    "    delta=0.01,\n",
    "    verbose=True \n",
    ")\n",
    "\n",
    "# Run the active learning loop\n",
    "lse.run(max_iter=10)\n"
   ]
  },
  {
   "cell_type": "code",
   "execution_count": null,
   "id": "1fbe09cb-56b6-46c4-9bb5-98298b5a6e9d",
   "metadata": {},
   "outputs": [],
   "source": [
    "print(\"Confident drivers:\", [df.iloc[i][\"Mutation\"] for i in lse.ht])\n",
    "print(\"Confident passengers:\", [df.iloc[i][\"Mutation\"] for i in lse.lt])\n"
   ]
  },
  {
   "cell_type": "code",
   "execution_count": 4,
   "id": "bd83672b-ac70-42ed-8851-a5bd05217eb2",
   "metadata": {},
   "outputs": [],
   "source": [
    "import jax.numpy as jnp\n",
    "\n",
    "class LSE:\n",
    "    def __init__(self, model, params, X_pool, y_pool, init_indices, h=0.5, epsilon=0.05, delta=0.01):\n",
    "        self.model = model\n",
    "        self.params = params\n",
    "        self.h = h\n",
    "        self.epsilon = epsilon\n",
    "        self.delta = delta\n",
    "        self.t = 1\n",
    "        self.X_pool = X_pool\n",
    "        self.y_pool = y_pool\n",
    "\n",
    "        self.vt = list(init_indices)                    # Visited (labeled)\n",
    "        self.ut = list(set(range(len(X_pool))) - set(self.vt))  # Unlabeled pool\n",
    "        self.ht = []  # High (driver)\n",
    "        self.lt = []  # Low (passenger)\n",
    "\n",
    "        self._update_gp()  # Fit GP on initial seed\n",
    "\n",
    "    def _beta(self):\n",
    "        return 2 * np.log((np.pi**2 * (self.t+1)**2) / (6 * self.delta))\n",
    "\n",
    "    def _update_gp(self):\n",
    "        X_train = [self.X_pool[i] for i in self.vt]\n",
    "        y_train = self.y_pool[self.vt]\n",
    "        self.model.set_training_data(X_train, y_train)\n",
    "\n",
    "    def step(self):\n",
    "        if not self.ut:\n",
    "            return False  # Done\n",
    "\n",
    "        X_test = [self.X_pool[i] for i in self.ut]\n",
    "        mu, std = self.model.predict_f(self.params, X_test, full_covar=False)\n",
    "        b = np.sqrt(self._beta())\n",
    "\n",
    "        lower = mu - b * std\n",
    "        upper = mu + b * std\n",
    "\n",
    "        H_mask = (lower + self.epsilon > self.h)\n",
    "        L_mask = (upper - self.epsilon <= self.h)\n",
    "\n",
    "        idx_H = [self.ut[i] for i in np.where(H_mask)[0]]\n",
    "        idx_L = [self.ut[i] for i in np.where(L_mask)[0]]\n",
    "\n",
    "        self.ht.extend(idx_H)\n",
    "        self.lt.extend(idx_L)\n",
    "\n",
    "        newly_classified = set(idx_H + idx_L)\n",
    "        self.ut = [i for i in self.ut if i not in newly_classified]\n",
    "\n",
    "        if not self.ut:\n",
    "            return False\n",
    "\n",
    "        # Ambiguity-based selection\n",
    "        ambiguity = np.minimum(upper - self.h, self.h - lower)\n",
    "        next_idx_local = int(np.argmax(ambiguity))\n",
    "        next_global_idx = self.ut[next_idx_local]\n",
    "\n",
    "        self.vt.append(next_global_idx)\n",
    "        self.ut.remove(next_global_idx)\n",
    "        self._update_gp()\n",
    "        self.t += 1\n",
    "        return True\n",
    "\n",
    "    def run(self, max_iter=100):\n",
    "        for _ in range(max_iter):\n",
    "            if not self.step():\n",
    "                break\n"
   ]
  }
 ],
 "metadata": {
  "kernelspec": {
   "display_name": "Python (sequence_kernels)",
   "language": "python",
   "name": "sequence_kernels"
  },
  "language_info": {
   "codemirror_mode": {
    "name": "ipython",
    "version": 3
   },
   "file_extension": ".py",
   "mimetype": "text/x-python",
   "name": "python",
   "nbconvert_exporter": "python",
   "pygments_lexer": "ipython3",
   "version": "3.10.17"
  }
 },
 "nbformat": 4,
 "nbformat_minor": 5
}
