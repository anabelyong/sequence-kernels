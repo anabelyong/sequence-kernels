{
 "cells": [
  {
   "cell_type": "markdown",
   "id": "7ad00921-7a19-4a8f-93da-ac8a3c7e7fbd",
   "metadata": {},
   "source": [
    "### Definition: IMQ-Hamming Kernel\n",
    "Based on Amin et al.(2023), the Inverse Multiquadratic Hamming(IMQ-H) kernel is defined for sequences $x,y \\in \\mathcal{S}$, where $\\mathcal{S}$ is the space of finite strings (e.g., DNA/RNA/protein), as: \n",
    "$$\n",
    "k_{\\text{IMQ-h}}(X,Y)= \\frac{1}{1+d_{H}^{\\Phi}(X,Y))^2} = \\frac{1}{(1+|X| \\vee |Y|-(\\Phi(x)|\\Phi(Y)))^2}$$\n",
    "\n",
    "This uses: \n",
    "1) $d_H(x,y)$: a Hamming distance computed over a feature space defined by sliding window counts (k-mers).\n",
    "2) The inverse multiquadratic kernel form $k(a,b) = \\frac{C}{(\\alpha + ||\\alpha - b||^2)^{\\beta}}$, here adapted for string comparison.\n",
    "\n",
    "This paper generalizes this with parameters scale $\\alpha$ and $\\beta$, yielding: \n",
    "\n",
    "$$\n",
    "k_{\\text{IMQ-h}}(x,y)= \\frac{(1+\\alpha)^{\\beta}}{(\\alpha +d_{H}(x,y))^{\\beta}}$$\n"
   ]
  },
  {
   "cell_type": "code",
   "execution_count": 1,
   "id": "571122d6-f88c-4dbb-93e2-d8ea9364cd7f",
   "metadata": {},
   "outputs": [],
   "source": [
    "import pandas as pd \n",
    "import numpy as np \n",
    "import matplotlib.pyplot as plt\n",
    "import logging "
   ]
  },
  {
   "cell_type": "code",
   "execution_count": 2,
   "id": "fcaacc80-672b-4114-b1e8-6f4d22faf40f",
   "metadata": {},
   "outputs": [],
   "source": [
    "df = pd.read_csv('mutation_with_sequences.csv')\n",
    "df = df.dropna(subset=[\"mut_seq\", \"Type\"])\n",
    "# Inputs: mutated sequences\n",
    "seqs = df[\"mut_seq\"].tolist()\n",
    "# Labels: 1 = driver, 0 = passenger\n",
    "labels = df[\"Type\"].apply(lambda x: 1.0 if x.lower() == \"driver\" else 0.0).values"
   ]
  },
  {
   "cell_type": "code",
   "execution_count": 8,
   "id": "4da129c3-1f28-47e2-b74b-24567bc3a088",
   "metadata": {},
   "outputs": [
    {
     "name": "stdout",
     "output_type": "stream",
     "text": [
      "         Source    Gene                ENST Gene Code           ENST.1  \\\n",
      "0        OncoKB   FGFR2  ENST00000358487.10    P21802  ENST00000358487   \n",
      "1        GnomAD    TP53   ENST00000269305.4    P04637  ENST00000269305   \n",
      "2        OncoKB   BRCA1   ENST00000357654.9    P38398  ENST00000357654   \n",
      "3       IntOGen  PIK3CA   ENST00000263967.4    P42336  ENST00000263967   \n",
      "4       IntOGen   KMT2C  ENST00000262189.11    Q8NEZ4  ENST00000262189   \n",
      "..          ...     ...                 ...       ...              ...   \n",
      "195      GnomAD  CREBBP   ENST00000262367.5    Q92793  ENST00000262367   \n",
      "196      OncoKB    PTEN   ENST00000371953.8    P60484  ENST00000371953   \n",
      "197  cBioPortal   FBXW7  ENST00000281708.10    Q969H0  ENST00000281708   \n",
      "198  cBioPortal    TP53   ENST00000269305.9    P04637  ENST00000269305   \n",
      "199      GnomAD   ERBB2   ENST00000269571.5    P04626  ENST00000269571   \n",
      "\n",
      "       Gene Name Mutation       Type  \\\n",
      "0    FGFR2_HUMAN    S252W     Driver   \n",
      "1      P53_HUMAN     P47S  Passenger   \n",
      "2    BRCA1_HUMAN   Y1703H     Driver   \n",
      "3    PK3CA_HUMAN   M1004I  Passenger   \n",
      "4    KMT2C_HUMAN   G4415E  Passenger   \n",
      "..           ...      ...        ...   \n",
      "195    CBP_HUMAN    P153L  Passenger   \n",
      "196   PTEN_HUMAN    A126V     Driver   \n",
      "197  FBXW7_HUMAN    R479Q     Driver   \n",
      "198    P53_HUMAN    E285K     Driver   \n",
      "199  ERBB2_HUMAN    I655V  Passenger   \n",
      "\n",
      "                                              wild_seq  \\\n",
      "0    MVSWGRFICLVVVTMATLSLARPSFSLVEDTTLEPEEPPTKYQISQ...   \n",
      "1    MEEPQSDPSVEPPLSQETFSDLWKLLPENNVLSPLPSQAMDDLMLS...   \n",
      "2    MDLSALRVEEVQNVINAMQKILECPICLELIKEPVSTKCDHIFCKF...   \n",
      "3    MPPRPSSGELWGIHLMPPRILVECLLPNGMIVTLECLREATLITIK...   \n",
      "4    MSSEEDKSVEQPQPPPPPPEEPGAPAPSPAAADKRPRGRPRKDGAS...   \n",
      "..                                                 ...   \n",
      "195  MAENLLDGPPNPKRAKLSSPGFSANDSTDFGSLFDLENDLPDELIP...   \n",
      "196  MTAIIKEIVSRNKRRYQEDGFDLDLTYIYPNIIAMGFPAERLEGVY...   \n",
      "197  MNQELLSVGSKRRRTGGSLRGNPSSSQVDEEQMNRVVEEEQQQQLR...   \n",
      "198  MEEPQSDPSVEPPLSQETFSDLWKLLPENNVLSPLPSQAMDDLMLS...   \n",
      "199  MELAALCRWGLLLALLPPGAASTQVCTGTDMKLRLPASPETHLDML...   \n",
      "\n",
      "                                               mut_seq  error  \n",
      "0    MVSWGRFICLVVVTMATLSLARPSFSLVEDTTLEPEEPPTKYQISQ...    NaN  \n",
      "1    MEEPQSDPSVEPPLSQETFSDLWKLLPENNVLSPLPSQAMDDLMLS...    NaN  \n",
      "2    MDLSALRVEEVQNVINAMQKILECPICLELIKEPVSTKCDHIFCKF...    NaN  \n",
      "3    MPPRPSSGELWGIHLMPPRILVECLLPNGMIVTLECLREATLITIK...    NaN  \n",
      "4    MSSEEDKSVEQPQPPPPPPEEPGAPAPSPAAADKRPRGRPRKDGAS...    NaN  \n",
      "..                                                 ...    ...  \n",
      "195  MAENLLDGPPNPKRAKLSSPGFSANDSTDFGSLFDLENDLPDELIP...    NaN  \n",
      "196  MTAIIKEIVSRNKRRYQEDGFDLDLTYIYPNIIAMGFPAERLEGVY...    NaN  \n",
      "197  MNQELLSVGSKRRRTGGSLRGNPSSSQVDEEQMNRVVEEEQQQQLR...    NaN  \n",
      "198  MEEPQSDPSVEPPLSQETFSDLWKLLPENNVLSPLPSQAMDDLMLS...    NaN  \n",
      "199  MELAALCRWGLLLALLPPGAASTQVCTGTDMKLRLPASPETHLDML...    NaN  \n",
      "\n",
      "[200 rows x 11 columns]\n"
     ]
    }
   ],
   "source": [
    "print(df)"
   ]
  },
  {
   "cell_type": "code",
   "execution_count": 3,
   "id": "3b2175c8-de09-4c8a-91a4-62cfd887f0ce",
   "metadata": {},
   "outputs": [
    {
     "name": "stdout",
     "output_type": "stream",
     "text": [
      "Number of driver mutations: 699\n",
      "Number of passenger mutations: 725\n"
     ]
    }
   ],
   "source": [
    "# Count number of drivers and passengers\n",
    "type_counts = df[\"Type\"].str.lower().value_counts()\n",
    "\n",
    "num_drivers = type_counts.get(\"driver\", 0)\n",
    "\n",
    "num_passengers = type_counts.get(\"passenger\", 0)\n",
    "\n",
    "print(f\"Number of driver mutations: {num_drivers}\")\n",
    "print(f\"Number of passenger mutations: {num_passengers}\")"
   ]
  },
  {
   "cell_type": "markdown",
   "id": "78b220d4-0cf2-4135-9aea-6a23f6fc20a3",
   "metadata": {},
   "source": [
    "### Pick 10 Seed Points for training GP"
   ]
  },
  {
   "cell_type": "code",
   "execution_count": 4,
   "id": "3bab5e24-2078-4096-a2f6-29cfee066f08",
   "metadata": {},
   "outputs": [],
   "source": [
    "import pandas as pd\n",
    "import numpy as np\n",
    "\n",
    "df = pd.read_csv(\"mutation_with_sequences.csv\")\n",
    "df = df.dropna(subset=[\"mut_seq\", \"Type\"])\n",
    "df = df.sample(n=200, random_state=42).reset_index(drop=True)\n",
    "\n",
    "# Sequences and labels\n",
    "seqs = df[\"mut_seq\"].tolist()\n",
    "labels = df[\"Type\"].apply(lambda x: 1.0 if x.lower() == \"driver\" else 0.0).values"
   ]
  },
  {
   "cell_type": "code",
   "execution_count": 5,
   "id": "1254bf09-7e03-49c2-a711-6ddffb319a30",
   "metadata": {},
   "outputs": [],
   "source": [
    "init_idx = np.random.choice(len(seqs), size=200, replace=False)"
   ]
  },
  {
   "cell_type": "markdown",
   "id": "cd6e8b81-cda3-464b-ac06-706b3bb1ecc1",
   "metadata": {},
   "source": [
    "### Define GP Model and Kernel "
   ]
  },
  {
   "cell_type": "markdown",
   "id": "b06438e9-5fae-4c67-8521-8afa67f13a5c",
   "metadata": {},
   "source": [
    "## IMQH-GP and LSE setup \n",
    "Let $\\mathcal{X} = \\{x_1, x_2, \\dots, x_N\\}$ be a set of mutation sequences. At each iteration $t$, the labeled set is $\\mathcal{I}_t \\subset \\mathcal{X}$ and the unlabeled set is $\\mathcal{U}_t = \\mathcal{X} - \\mathcal{I}_t$.\n",
    "\n",
    "We model the latent function $f$ over sequences using a Gaussian Process prior:\n",
    "$$ f(x) \\sim \\mathcal{GP}(0, k(x, x'))$$\n",
    "where $k(x, x')$ is the IMQ-Hamming kernel:\n",
    "$$\n",
    "k(x, x') = \\frac{(1 + s)^\\beta}{(s + d_H(x, x'))^\\beta}\n",
    "$$\n",
    "with scale parameter $s > 0$, shape parameter $\\beta > 0$, and $d_H$ is the Hamming distance over k-mers.\n",
    "\n",
    "## Gaussian Process Posterior Predictions\n",
    "\n",
    "Given the current labeled data $\\mathcal{I}_t$, for each $x \\in \\mathcal{U}_t$, the GP provides:\n",
    "1) Predictive mean: $\\mu_t(x)$\n",
    "2) Predictive variance: $\\sigma^2_t(x)$\n",
    "\n",
    "## Confidence Invervals\n",
    "We compute a high-probability confidence interval (CI) for $f(x)$:\n",
    "$$\n",
    "\\mathrm{CI}_t(x) = \\left[ \\mu_t(x) - \\beta_t^{1/2} \\sigma_t(x), \\, \\mu_t(x) + \\beta_t^{1/2} \\sigma_t(x) \\right]\n",
    "$$ where\n",
    "$$\n",
    "\\beta_t = 2 \\log\\left( \\frac{\\pi^2 (t+1)^2}{6 \\delta} \\right)\n",
    "$$\n",
    "and $\\delta \\in (0,1)$ is a confidence parameter (typically $\\delta = 0.01$).\n",
    "\n",
    "## Threshold Classification\n",
    "A threshold $h_t$ is used to decide whether $x$ is classified as a \\emph{driver} or \\emph{passenger}. This can be:\n",
    "1) Explicit $h_t = h$, e.g., $h = 0.5$\n",
    "2) Implicit $h_t = \\omega \\cdot \\max_{x \\in \\mathcal{U}_t} \\mu_t(x)$, where $\\omega \\in (0, 1)$\n",
    "Each point $x \\in \\mathcal{U}_t$ is classified based on its confidence interval:\n",
    "\n",
    "1) **Driver (high)** & $\\quad \\text{if} \\quad \\mu_t(x) - \\beta_t^{1/2} \\sigma_t(x) > h_t - \\epsilon$ \n",
    "2) **Passenger (low)** & $\\quad \\text{if} \\quad \\mu_t(x) + \\beta_t^{1/2} \\sigma_t(x) < h_t + \\epsilon$\n",
    "\n",
    "All other points remain unlabeled.\n",
    "\n",
    "## Acquisition Rule\n",
    "From the remaining unlabeled points $\\mathcal{U}_t$, the next query $x^\\ast$ is chosen according to a rule:\n",
    "\n",
    "1) **Ambiguity:**\n",
    "\n",
    "$$x^\\ast = \\arg\\max_{x \\in \\mathcal{U}_t} \\min\\left( \\mu_t(x) + \\beta_t^{1/2} \\sigma_t(x) - h_t,\\; h_t - (\\mu_t(x) - \\beta_t^{1/2} \\sigma_t(x)) \\right)$$\n",
    "\n",
    "2) **Variance**\n",
    "\n",
    "$$x^\\ast = \\arg\\max_{x \\in \\mathcal{U}_t} \\sigma_t(x)$$\n",
    "\n",
    "The selected point is queried (labeled), added to $\\mathcal{I}_t$, and the GP is updated accordingly."
   ]
  },
  {
   "cell_type": "code",
   "execution_count": 6,
   "id": "94acfc5f-eb44-4cc2-b451-420d9a22b48a",
   "metadata": {},
   "outputs": [],
   "source": [
    "import jax.numpy as jnp\n",
    "import imq_gp \n",
    "\n",
    "from imq_gp import ZeroMeanIMQHGP, IMQHGP_Params\n",
    "\n",
    "gp_model = ZeroMeanIMQHGP([seqs[i] for i in init_idx], jnp.array(labels[init_idx]))\n",
    "\n",
    "# Set hyperparameters\n",
    "params = IMQHGP_Params(\n",
    "    raw_amplitude=jnp.array(1.0),\n",
    "    raw_noise=jnp.array(1e-4),\n",
    "    scale=1.0,\n",
    "    beta=0.5,\n",
    "    lag=1,\n",
    "    alphabet_name=\"prot\"\n",
    ")"
   ]
  },
  {
   "cell_type": "code",
   "execution_count": 7,
   "id": "8ae1979a-cfb4-4958-a4a5-9ef9dfcf9124",
   "metadata": {},
   "outputs": [
    {
     "ename": "IndexError",
     "evalue": "index 0 is out of bounds for axis 0 with size 0",
     "output_type": "error",
     "traceback": [
      "\u001b[0;31m---------------------------------------------------------------------------\u001b[0m",
      "\u001b[0;31mIndexError\u001b[0m                                Traceback (most recent call last)",
      "Cell \u001b[0;32mIn[7], line 14\u001b[0m\n\u001b[1;32m     11\u001b[0m test_idx \u001b[38;5;241m=\u001b[39m [i \u001b[38;5;28;01mfor\u001b[39;00m i \u001b[38;5;129;01min\u001b[39;00m \u001b[38;5;28mrange\u001b[39m(\u001b[38;5;28mlen\u001b[39m(seqs)) \u001b[38;5;28;01mif\u001b[39;00m i \u001b[38;5;129;01mnot\u001b[39;00m \u001b[38;5;129;01min\u001b[39;00m train_idx]\n\u001b[1;32m     13\u001b[0m K_train_train \u001b[38;5;241m=\u001b[39m imq_hamming_kernel(X_train, X_train, alphabet_name\u001b[38;5;241m=\u001b[39m\u001b[38;5;124m'\u001b[39m\u001b[38;5;124mprot\u001b[39m\u001b[38;5;124m'\u001b[39m, scale\u001b[38;5;241m=\u001b[39m\u001b[38;5;241m1.0\u001b[39m, beta\u001b[38;5;241m=\u001b[39m\u001b[38;5;241m0.5\u001b[39m, lag\u001b[38;5;241m=\u001b[39m\u001b[38;5;241m1\u001b[39m)\n\u001b[0;32m---> 14\u001b[0m K_test_train \u001b[38;5;241m=\u001b[39m \u001b[43mimq_hamming_kernel\u001b[49m\u001b[43m(\u001b[49m\u001b[43mX_test\u001b[49m\u001b[43m,\u001b[49m\u001b[43m \u001b[49m\u001b[43mX_train\u001b[49m\u001b[43m,\u001b[49m\u001b[43m \u001b[49m\u001b[43malphabet_name\u001b[49m\u001b[38;5;241;43m=\u001b[39;49m\u001b[38;5;124;43m'\u001b[39;49m\u001b[38;5;124;43mprot\u001b[39;49m\u001b[38;5;124;43m'\u001b[39;49m\u001b[43m,\u001b[49m\u001b[43m \u001b[49m\u001b[43mscale\u001b[49m\u001b[38;5;241;43m=\u001b[39;49m\u001b[38;5;241;43m1.0\u001b[39;49m\u001b[43m,\u001b[49m\u001b[43m \u001b[49m\u001b[43mbeta\u001b[49m\u001b[38;5;241;43m=\u001b[39;49m\u001b[38;5;241;43m0.5\u001b[39;49m\u001b[43m,\u001b[49m\u001b[43m \u001b[49m\u001b[43mlag\u001b[49m\u001b[38;5;241;43m=\u001b[39;49m\u001b[38;5;241;43m1\u001b[39;49m\u001b[43m)\u001b[49m\n\u001b[1;32m     15\u001b[0m K_test_test \u001b[38;5;241m=\u001b[39m imq_hamming_kernel(X_test, X_test, alphabet_name\u001b[38;5;241m=\u001b[39m\u001b[38;5;124m'\u001b[39m\u001b[38;5;124mprot\u001b[39m\u001b[38;5;124m'\u001b[39m, scale\u001b[38;5;241m=\u001b[39m\u001b[38;5;241m1.0\u001b[39m, beta\u001b[38;5;241m=\u001b[39m\u001b[38;5;241m0.5\u001b[39m, lag\u001b[38;5;241m=\u001b[39m\u001b[38;5;241m1\u001b[39m)\n\u001b[1;32m     17\u001b[0m \u001b[38;5;66;03m# Store in the model\u001b[39;00m\n",
      "File \u001b[0;32m~/sequence-kernels/supplementary-info/imq_gp.py:10\u001b[0m, in \u001b[0;36mimq_hamming_kernel\u001b[0;34m(seqs_x, seqs_y, alphabet_name, scale, beta, lag)\u001b[0m\n\u001b[1;32m      8\u001b[0m \u001b[38;5;28;01mif\u001b[39;00m seqs_y \u001b[38;5;129;01mis\u001b[39;00m \u001b[38;5;28;01mNone\u001b[39;00m:\n\u001b[1;32m      9\u001b[0m     seqs_y \u001b[38;5;241m=\u001b[39m seqs_x\n\u001b[0;32m---> 10\u001b[0m h_dists \u001b[38;5;241m=\u001b[39m \u001b[43mhamming_dist\u001b[49m\u001b[43m(\u001b[49m\u001b[43mseqs_x\u001b[49m\u001b[43m,\u001b[49m\u001b[43m \u001b[49m\u001b[43mseqs_y\u001b[49m\u001b[43m,\u001b[49m\u001b[43m \u001b[49m\u001b[43malphabet_name\u001b[49m\u001b[38;5;241;43m=\u001b[39;49m\u001b[43malphabet_name\u001b[49m\u001b[43m,\u001b[49m\u001b[43m \u001b[49m\u001b[43mlag\u001b[49m\u001b[38;5;241;43m=\u001b[39;49m\u001b[43mlag\u001b[49m\u001b[43m)\u001b[49m\n\u001b[1;32m     11\u001b[0m \u001b[38;5;28;01mreturn\u001b[39;00m (\u001b[38;5;241m1\u001b[39m \u001b[38;5;241m+\u001b[39m scale) \u001b[38;5;241m*\u001b[39m\u001b[38;5;241m*\u001b[39m beta \u001b[38;5;241m/\u001b[39m (scale \u001b[38;5;241m+\u001b[39m h_dists) \u001b[38;5;241m*\u001b[39m\u001b[38;5;241m*\u001b[39m beta\n",
      "File \u001b[0;32m~/sequence-kernels/supplementary-info/seq_tools.py:318\u001b[0m, in \u001b[0;36mhamming_dist\u001b[0;34m(seqs_x, seqs_y, alphabet_name, lag)\u001b[0m\n\u001b[1;32m    299\u001b[0m \u001b[38;5;250m\u001b[39m\u001b[38;5;124;03m\"\"\"Calculate the hamming distance between two sets of sequences comparing\u001b[39;00m\n\u001b[1;32m    300\u001b[0m \u001b[38;5;124;03mk-mers of length lag at each position. Distances are calcualted as if\u001b[39;00m\n\u001b[1;32m    301\u001b[0m \u001b[38;5;124;03msequences terminated with infinitely many stops.\u001b[39;00m\n\u001b[0;32m   (...)\u001b[0m\n\u001b[1;32m    315\u001b[0m \u001b[38;5;124;03m    the last two axes if sequences were OHE.\u001b[39;00m\n\u001b[1;32m    316\u001b[0m \u001b[38;5;124;03m\"\"\"\u001b[39;00m\n\u001b[1;32m    317\u001b[0m \u001b[38;5;66;03m# first binarize each set of sequences to compare letters using bitwise_and\u001b[39;00m\n\u001b[0;32m--> 318\u001b[0m bin_x \u001b[38;5;241m=\u001b[39m \u001b[43mget_binarize\u001b[49m\u001b[43m(\u001b[49m\u001b[43mseqs_x\u001b[49m\u001b[43m,\u001b[49m\u001b[43m \u001b[49m\u001b[43malphabet_name\u001b[49m\u001b[38;5;241;43m=\u001b[39;49m\u001b[43malphabet_name\u001b[49m\u001b[43m,\u001b[49m\n\u001b[1;32m    319\u001b[0m \u001b[43m                               \u001b[49m\u001b[43minclude_stop\u001b[49m\u001b[38;5;241;43m=\u001b[39;49m\u001b[38;5;28;43;01mTrue\u001b[39;49;00m\u001b[43m,\u001b[49m\u001b[43m \u001b[49m\u001b[43mfill_stop\u001b[49m\u001b[38;5;241;43m=\u001b[39;49m\u001b[38;5;28;43;01mTrue\u001b[39;49;00m\u001b[43m)\u001b[49m\n\u001b[1;32m    320\u001b[0m bin_y \u001b[38;5;241m=\u001b[39m get_binarize(seqs_y, alphabet_name\u001b[38;5;241m=\u001b[39malphabet_name,\n\u001b[1;32m    321\u001b[0m                                include_stop\u001b[38;5;241m=\u001b[39m\u001b[38;5;28;01mTrue\u001b[39;00m, fill_stop\u001b[38;5;241m=\u001b[39m\u001b[38;5;28;01mTrue\u001b[39;00m)\n\u001b[1;32m    322\u001b[0m shape_x \u001b[38;5;241m=\u001b[39m np\u001b[38;5;241m.\u001b[39mshape(bin_x)[:\u001b[38;5;241m-\u001b[39m\u001b[38;5;241m1\u001b[39m]\n",
      "File \u001b[0;32m~/sequence-kernels/supplementary-info/seq_tools.py:79\u001b[0m, in \u001b[0;36mget_binarize\u001b[0;34m(seqs, alphabet_name, include_stop, fill_stop)\u001b[0m\n\u001b[1;32m     64\u001b[0m \u001b[38;5;28;01mdef\u001b[39;00m\u001b[38;5;250m \u001b[39m\u001b[38;5;21mget_binarize\u001b[39m(seqs, alphabet_name\u001b[38;5;241m=\u001b[39m\u001b[38;5;124m'\u001b[39m\u001b[38;5;124mdna\u001b[39m\u001b[38;5;124m'\u001b[39m, include_stop\u001b[38;5;241m=\u001b[39m\u001b[38;5;28;01mFalse\u001b[39;00m, fill_stop\u001b[38;5;241m=\u001b[39m\u001b[38;5;28;01mFalse\u001b[39;00m):\n\u001b[1;32m     65\u001b[0m \u001b[38;5;250m    \u001b[39m\u001b[38;5;124;03m\"\"\" Represents sequences as binary ints: empty spots are 1,\u001b[39;00m\n\u001b[1;32m     66\u001b[0m \u001b[38;5;124;03m    the first letter is 10, second is 100, etc... . For easy\u001b[39;00m\n\u001b[1;32m     67\u001b[0m \u001b[38;5;124;03m    Hamming distance calculation.\u001b[39;00m\n\u001b[0;32m   (...)\u001b[0m\n\u001b[1;32m     77\u001b[0m \u001b[38;5;124;03m    bin_seqs: numpy array\u001b[39;00m\n\u001b[1;32m     78\u001b[0m \u001b[38;5;124;03m    \"\"\"\u001b[39;00m    \n\u001b[0;32m---> 79\u001b[0m     ohe \u001b[38;5;241m=\u001b[39m \u001b[43mget_ohe\u001b[49m\u001b[43m(\u001b[49m\u001b[43mseqs\u001b[49m\u001b[43m,\u001b[49m\u001b[43m \u001b[49m\u001b[43malphabet_name\u001b[49m\u001b[38;5;241;43m=\u001b[39;49m\u001b[43malphabet_name\u001b[49m\u001b[43m)\u001b[49m\n\u001b[1;32m     80\u001b[0m     alphabet_size \u001b[38;5;241m=\u001b[39m np\u001b[38;5;241m.\u001b[39mshape(ohe)[\u001b[38;5;241m-\u001b[39m\u001b[38;5;241m1\u001b[39m]\n\u001b[1;32m     81\u001b[0m     \u001b[38;5;28;01mreturn\u001b[39;00m np\u001b[38;5;241m.\u001b[39mdot(ohe, \u001b[38;5;241m2\u001b[39m\u001b[38;5;241m*\u001b[39m\u001b[38;5;241m*\u001b[39m(np\u001b[38;5;241m.\u001b[39marange(alphabet_size)\u001b[38;5;241m+\u001b[39m\u001b[38;5;241m1\u001b[39m)\u001b[38;5;241m-\u001b[39m\u001b[38;5;241m1\u001b[39m)\u001b[38;5;241m.\u001b[39mastype(\u001b[38;5;28mint\u001b[39m) \u001b[38;5;241m+\u001b[39m \u001b[38;5;241m1\u001b[39m\n",
      "File \u001b[0;32m~/sequence-kernels/supplementary-info/seq_tools.py:44\u001b[0m, in \u001b[0;36mget_ohe\u001b[0;34m(seqs, alphabet_name, include_stop, fill_stop)\u001b[0m\n\u001b[1;32m     42\u001b[0m alphabet \u001b[38;5;241m=\u001b[39m alphabet[:\u001b[38;5;28mlen\u001b[39m(alphabet) \u001b[38;5;241m-\u001b[39m \u001b[38;5;241m1\u001b[39m \u001b[38;5;241m+\u001b[39m include_stop]\n\u001b[1;32m     43\u001b[0m alphabet_size \u001b[38;5;241m=\u001b[39m \u001b[38;5;28mlen\u001b[39m(alphabet)\n\u001b[0;32m---> 44\u001b[0m \u001b[38;5;28;01mif\u001b[39;00m \u001b[38;5;28misinstance\u001b[39m(\u001b[43mnp\u001b[49m\u001b[38;5;241;43m.\u001b[39;49m\u001b[43marray\u001b[49m\u001b[43m(\u001b[49m\u001b[43mseqs\u001b[49m\u001b[43m)\u001b[49m\u001b[38;5;241;43m.\u001b[39;49m\u001b[43mflatten\u001b[49m\u001b[43m(\u001b[49m\u001b[43m)\u001b[49m\u001b[43m[\u001b[49m\u001b[38;5;241;43m0\u001b[39;49m\u001b[43m]\u001b[49m, \u001b[38;5;28mstr\u001b[39m):\n\u001b[1;32m     45\u001b[0m     \u001b[38;5;66;03m# seqs is a set of strings\u001b[39;00m\n\u001b[1;32m     46\u001b[0m     max_seq_len \u001b[38;5;241m=\u001b[39m \u001b[38;5;28mmax\u001b[39m([\u001b[38;5;28mlen\u001b[39m(seq) \u001b[38;5;28;01mfor\u001b[39;00m seq \u001b[38;5;129;01min\u001b[39;00m np\u001b[38;5;241m.\u001b[39marray(seqs)\u001b[38;5;241m.\u001b[39mflatten()])\n\u001b[1;32m     47\u001b[0m     seq_shape \u001b[38;5;241m=\u001b[39m np\u001b[38;5;241m.\u001b[39mshape(seqs)\n",
      "\u001b[0;31mIndexError\u001b[0m: index 0 is out of bounds for axis 0 with size 0"
     ]
    }
   ],
   "source": [
    "# Precompute full kernel matrices\n",
    "import jax.numpy as jnp\n",
    "from imq_gp import imq_hamming_kernel\n",
    "\n",
    "X_pool = seqs\n",
    "X_train = [seqs[i] for i in init_idx]\n",
    "X_test = [seqs[i] for i in range(len(seqs)) if i not in init_idx]\n",
    "\n",
    "# This is the full train and test indices\n",
    "train_idx = init_idx\n",
    "test_idx = [i for i in range(len(seqs)) if i not in train_idx]\n",
    "\n",
    "K_train_train = imq_hamming_kernel(X_train, X_train, alphabet_name='prot', scale=1.0, beta=0.5, lag=1)\n",
    "K_test_train = imq_hamming_kernel(X_test, X_train, alphabet_name='prot', scale=1.0, beta=0.5, lag=1)\n",
    "K_test_test = imq_hamming_kernel(X_test, X_test, alphabet_name='prot', scale=1.0, beta=0.5, lag=1)\n",
    "\n",
    "# Store in the model\n",
    "gp_model._K_train_train = jnp.asarray(K_train_train)\n",
    "gp_model._K_test_train = jnp.asarray(K_test_train)\n",
    "gp_model._K_test_test = jnp.asarray(K_test_test)\n",
    "gp_model._X_test = X_test\n",
    "gp_model._test_idx = test_idx"
   ]
  },
  {
   "cell_type": "code",
   "execution_count": null,
   "id": "412cd8dc-0d67-420a-b014-1ff8046ee467",
   "metadata": {},
   "outputs": [],
   "source": [
    "import importlib\n",
    "import imq_gp \n",
    "from lse import LSE\n",
    "\n",
    "try:\n",
    "    del lse\n",
    "except NameError:\n",
    "    pass\n",
    "\n",
    "#Run LSE\n",
    "lse = LSE(\n",
    "    model=gp_model,\n",
    "    params=params,\n",
    "    X_pool=seqs,\n",
    "    y_pool=labels,\n",
    "    init_indices=init_idx,\n",
    "    omega=0.40,       \n",
    "    epsilon=0.05,\n",
    "    rule=\"amb\",      \n",
    "    verbose=True\n",
    ")\n",
    "\n",
    "# Run seed IMQH-GP-LSE algorithm\n",
    "lse.run(max_iter=20)"
   ]
  },
  {
   "cell_type": "code",
   "execution_count": null,
   "id": "53f0f24e-62f1-4114-9bf2-534251c0c654",
   "metadata": {},
   "outputs": [],
   "source": [
    "import matplotlib.pyplot as plt\n",
    "\n",
    "mu_all, _ = gp_model.predict_f(params, seqs, full_covar=False)\n",
    "plt.hist(np.array(mu_all), bins=20)\n",
    "plt.axvline(x=lse._threshold(mu_all), color='red', linestyle='--', label='Threshold')\n",
    "plt.title(\"Posterior mean (μ) distribution over all points\")\n",
    "plt.xlabel(\"μ\")\n",
    "plt.ylabel(\"Count\")\n",
    "plt.legend()\n",
    "plt.show()"
   ]
  },
  {
   "cell_type": "code",
   "execution_count": null,
   "id": "1fbe09cb-56b6-46c4-9bb5-98298b5a6e9d",
   "metadata": {},
   "outputs": [],
   "source": [
    "true_labels = df[\"Type\"].apply(lambda x: 1 if x.lower() == \"driver\" else 0).values\n",
    "mutations = df[\"Mutation\"].values\n",
    "\n",
    "# Queried indices and model predictions\n",
    "queried_indices = lse.vt\n",
    "pred_labels = [1 if i in lse.ht else 0 for i in queried_indices]\n",
    "true_labels_queried = [true_labels[i] for i in queried_indices]\n",
    "\n",
    "# Accuracy tracking\n",
    "correct = [int(p == t) for p, t in zip(pred_labels, true_labels_queried)]\n",
    "correct_mutations = [mutations[i] for i, is_correct in zip(queried_indices, correct) if is_correct]\n",
    "\n",
    "# Print results\n",
    "print(\"Queried mutation predictions (index, mutation, true, predicted, correct?):\")\n",
    "for idx, pred, true in zip(queried_indices, pred_labels, true_labels_queried):\n",
    "    tag = \"✓\" if pred == true else \"✗\"\n",
    "    print(f\"  idx={idx:2d}, {mutations[idx]:>8}, true={true}, pred={pred}  {tag}\")\n",
    "\n",
    "# Summary\n",
    "num_correct = sum(correct)\n",
    "print(f\"\\nCorrect predictions: {num_correct} / {len(queried_indices)}\")\n",
    "print(f\"Accuracy on queried points: {num_correct / len(queried_indices):.2%}\")\n"
   ]
  },
  {
   "cell_type": "code",
   "execution_count": null,
   "id": "9c6bff83-f33a-4f98-8cb2-2d7b3ccaabc1",
   "metadata": {},
   "outputs": [],
   "source": [
    "## maybe use a sigmoid link or logistic link function for f(x) \\in [0,1] instead of CI being negative"
   ]
  }
 ],
 "metadata": {
  "kernelspec": {
   "display_name": "Python (sequence_kernels)",
   "language": "python",
   "name": "sequence_kernels"
  },
  "language_info": {
   "codemirror_mode": {
    "name": "ipython",
    "version": 3
   },
   "file_extension": ".py",
   "mimetype": "text/x-python",
   "name": "python",
   "nbconvert_exporter": "python",
   "pygments_lexer": "ipython3",
   "version": "3.10.17"
  }
 },
 "nbformat": 4,
 "nbformat_minor": 5
}
