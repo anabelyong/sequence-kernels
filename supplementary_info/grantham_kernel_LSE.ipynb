{
 "cells": [
  {
   "cell_type": "code",
   "execution_count": 1,
   "id": "018dab11-5b23-43ae-9aeb-fafc1ce111ab",
   "metadata": {},
   "outputs": [],
   "source": [
    "import pandas as pd \n",
    "import matplotlib.pyplot as plt \n",
    "import csv "
   ]
  },
  {
   "cell_type": "code",
   "execution_count": 2,
   "id": "b9af82e1-8ea1-4097-9b1a-9501bcff3ff9",
   "metadata": {},
   "outputs": [
    {
     "name": "stdout",
     "output_type": "stream",
     "text": [
      "       Source   Gene                ENST Gene Code           ENST.1  \\\n",
      "0  cBioPortal  BRCA1   ENST00000357654.9    P38398  ENST00000357654   \n",
      "1  cBioPortal  BRCA2   ENST00000380152.8    P51587  ENST00000380152   \n",
      "2  cBioPortal   CDH1  ENST00000261769.10    P12830  ENST00000261769   \n",
      "3  cBioPortal   CDH1  ENST00000261769.10    P12830  ENST00000261769   \n",
      "4  cBioPortal   CDH1  ENST00000261769.10    P12830  ENST00000261769   \n",
      "\n",
      "     Gene Name Mutation    Type  \\\n",
      "0  BRCA1_HUMAN   G1788V  Driver   \n",
      "1  BRCA2_HUMAN   R2336C  Driver   \n",
      "2  CADH1_HUMAN    D288N  Driver   \n",
      "3  CADH1_HUMAN    D254Y  Driver   \n",
      "4  CADH1_HUMAN    R732Q  Driver   \n",
      "\n",
      "                                            wild_seq  \\\n",
      "0  MDLSALRVEEVQNVINAMQKILECPICLELIKEPVSTKCDHIFCKF...   \n",
      "1  MPIGSKERPTFFEIFKTRCNKADLGPISLNWFEELSSEAPPYNSEP...   \n",
      "2  MGPWSRSLSALLLLLQVSSWLCQEPEPCHPGFDAESYTFTVPRRHL...   \n",
      "3  MGPWSRSLSALLLLLQVSSWLCQEPEPCHPGFDAESYTFTVPRRHL...   \n",
      "4  MGPWSRSLSALLLLLQVSSWLCQEPEPCHPGFDAESYTFTVPRRHL...   \n",
      "\n",
      "                                             mut_seq  error  \n",
      "0  MDLSALRVEEVQNVINAMQKILECPICLELIKEPVSTKCDHIFCKF...    NaN  \n",
      "1  MPIGSKERPTFFEIFKTRCNKADLGPISLNWFEELSSEAPPYNSEP...    NaN  \n",
      "2  MGPWSRSLSALLLLLQVSSWLCQEPEPCHPGFDAESYTFTVPRRHL...    NaN  \n",
      "3  MGPWSRSLSALLLLLQVSSWLCQEPEPCHPGFDAESYTFTVPRRHL...    NaN  \n",
      "4  MGPWSRSLSALLLLLQVSSWLCQEPEPCHPGFDAESYTFTVPRRHL...    NaN  \n",
      "✅ All wild_seq and mut_seq pairs are of equal length.\n"
     ]
    }
   ],
   "source": [
    "#sanity check \n",
    "df = pd.read_csv(\"mutation_with_sequences.csv\")\n",
    "print(df.head())\n",
    "\n",
    "# Check for mismatched lengths\n",
    "mismatch_rows = []\n",
    "for idx, row in df.iterrows():\n",
    "    wild_seq = row[\"wild_seq\"]\n",
    "    mut_seq = row[\"mut_seq\"]\n",
    "    if len(wild_seq) != len(mut_seq):\n",
    "        mismatch_rows.append((idx, len(wild_seq), len(mut_seq)))\n",
    "\n",
    "# Report results\n",
    "if not mismatch_rows:\n",
    "    print(\"All wild_seq and mut_seq pairs are of equal L length.\")\n",
    "else:\n",
    "    print(\"❌ Found mismatches in the following rows (index, wild_len, mut_len):\")\n",
    "    for item in mismatch_rows:\n",
    "        print(item)"
   ]
  },
  {
   "cell_type": "code",
   "execution_count": 3,
   "id": "ed3fea59-73ac-44ec-960e-ebc8f128cbe3",
   "metadata": {},
   "outputs": [
    {
     "name": "stdout",
     "output_type": "stream",
     "text": [
      "❌ Found multiple wild_seq lengths: [np.int64(189), np.int64(198), np.int64(393), np.int64(399), np.int64(403), np.int64(413), np.int64(443), np.int64(472), np.int64(510), np.int64(552), np.int64(595), np.int64(661), np.int64(707), np.int64(724), np.int64(727), np.int64(821), np.int64(882), np.int64(1053), np.int64(1068), np.int64(1182), np.int64(1210), np.int64(1255), np.int64(1304), np.int64(1342), np.int64(1401), np.int64(1464), np.int64(1512), np.int64(1516), np.int64(1541), np.int64(1544), np.int64(1863), np.int64(1884), np.int64(1960), np.int64(2073), np.int64(2090), np.int64(2115), np.int64(2285), np.int64(2332), np.int64(2440), np.int64(2442), np.int64(2471), np.int64(2490), np.int64(2549), np.int64(3056), np.int64(3418), np.int64(3664), np.int64(4599), np.int64(4911), np.int64(4983)]\n",
      "Number of sequences for each length:\n",
      "wild_seq\n",
      "189      43\n",
      "198       2\n",
      "393     212\n",
      "399      36\n",
      "403     130\n",
      "413       7\n",
      "443       3\n",
      "472      36\n",
      "510       1\n",
      "552       5\n",
      "595      24\n",
      "661       1\n",
      "707       4\n",
      "724      16\n",
      "727       8\n",
      "821       6\n",
      "882      56\n",
      "1053      3\n",
      "1068    100\n",
      "1182      1\n",
      "1210     46\n",
      "1255     47\n",
      "1304     14\n",
      "1342     12\n",
      "1401      4\n",
      "1464      5\n",
      "1512      5\n",
      "1516      1\n",
      "1541     36\n",
      "1544      1\n",
      "1863     63\n",
      "1884     62\n",
      "1960      6\n",
      "2073     24\n",
      "2090      9\n",
      "2115      2\n",
      "2285     20\n",
      "2332      1\n",
      "2440      1\n",
      "2442     27\n",
      "2471     10\n",
      "2490      1\n",
      "2549     55\n",
      "3056     19\n",
      "3418    130\n",
      "3664      2\n",
      "4599      4\n",
      "4911    113\n",
      "4983     10\n",
      "Name: count, dtype: int64\n"
     ]
    }
   ],
   "source": [
    "#sanity check 2\n",
    "# Compute the length of each wild_seq\n",
    "wild_lengths = df[\"wild_seq\"].apply(len)\n",
    "\n",
    "# Get unique lengths\n",
    "unique_lengths = wild_lengths.unique()\n",
    "\n",
    "# Report results\n",
    "if len(unique_lengths) == 1:\n",
    "    print(f\"✅ All wild_seq entries have the same length: {unique_lengths[0]}\")\n",
    "else:\n",
    "    print(f\"❌ Found multiple wild_seq lengths: {sorted(unique_lengths)}\")\n",
    "    print(\"Number of sequences for each length:\")\n",
    "    print(wild_lengths.value_counts().sort_index())\n",
    "\n"
   ]
  }
 ],
 "metadata": {
  "kernelspec": {
   "display_name": "Python (sequence_kernels)",
   "language": "python",
   "name": "sequence_kernels"
  },
  "language_info": {
   "codemirror_mode": {
    "name": "ipython",
    "version": 3
   },
   "file_extension": ".py",
   "mimetype": "text/x-python",
   "name": "python",
   "nbconvert_exporter": "python",
   "pygments_lexer": "ipython3",
   "version": "3.10.17"
  }
 },
 "nbformat": 4,
 "nbformat_minor": 5
}
